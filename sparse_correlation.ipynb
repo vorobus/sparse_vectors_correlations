{
 "cells": [
  {
   "cell_type": "code",
   "execution_count": 1,
   "id": "559682d3-4ec1-43b0-bcad-d95be676657f",
   "metadata": {},
   "outputs": [],
   "source": [
    "import numpy as np"
   ]
  },
  {
   "cell_type": "code",
   "execution_count": 37,
   "id": "bcc39de2-60b4-4522-bddb-ad7488cfb7e0",
   "metadata": {},
   "outputs": [
    {
     "data": {
      "text/plain": [
       "(array([2, 0, 1, 1, 0, 1, 2, 0, 1, 1]), array([1, 1, 1, 0, 1, 0, 0, 1, 0]))"
      ]
     },
     "execution_count": 37,
     "metadata": {},
     "output_type": "execute_result"
    }
   ],
   "source": [
    "a = np.random.binomial(p = 0.2, n = 2, size = 10)\n",
    "b = np.random.binomial( p = 0.5, n = 1, size = 9)#size = (2,1))\n",
    "a,b"
   ]
  },
  {
   "cell_type": "code",
   "execution_count": 38,
   "id": "f96f7027-cd6f-4a43-b154-1f134e3e7b27",
   "metadata": {},
   "outputs": [],
   "source": [
    "sparse_array = np.random.binomial(p = 0.2, n = 2,size = 100)"
   ]
  },
  {
   "cell_type": "code",
   "execution_count": 39,
   "id": "b073bc46-c03c-4a38-82ed-c7c3d93e829b",
   "metadata": {},
   "outputs": [
    {
     "data": {
      "text/plain": [
       "array([0, 1, 0, 0, 0, 0, 0, 1, 1, 0, 2, 0, 0, 1, 0, 0, 1, 0, 0, 0, 0, 1,\n",
       "       0, 0, 0, 0, 1, 0, 0, 0, 0, 0, 1, 2, 0, 0, 1, 0, 1, 0, 1, 0, 1, 1,\n",
       "       0, 0, 2, 0, 0, 1, 0, 0, 0, 0, 0, 2, 0, 0, 1, 1, 0, 0, 0, 0, 1, 0,\n",
       "       0, 0, 0, 0, 0, 0, 1, 0, 0, 0, 1, 0, 0, 1, 0, 1, 0, 1, 2, 0, 0, 2,\n",
       "       1, 1, 1, 0, 0, 0, 0, 0, 1, 0, 0, 1])"
      ]
     },
     "execution_count": 39,
     "metadata": {},
     "output_type": "execute_result"
    }
   ],
   "source": [
    "sparse_array"
   ]
  },
  {
   "cell_type": "code",
   "execution_count": 41,
   "id": "22e83782-eb3a-43bc-ab76-7f59d0139354",
   "metadata": {},
   "outputs": [],
   "source": [
    "indeces = np.where(sparse_array != 0)"
   ]
  },
  {
   "cell_type": "code",
   "execution_count": 42,
   "id": "af3aeb2b-af07-4a40-8f11-aba1cdbbee41",
   "metadata": {},
   "outputs": [],
   "source": [
    "values = sparse_array[indeces]"
   ]
  },
  {
   "cell_type": "code",
   "execution_count": 43,
   "id": "f101b6de-3dd4-4b08-8c29-df503c847613",
   "metadata": {},
   "outputs": [
    {
     "data": {
      "text/plain": [
       "((array([ 1,  7,  8, 10, 13, 16, 21, 26, 32, 33, 36, 38, 40, 42, 43, 46, 49,\n",
       "         55, 58, 59, 64, 72, 76, 79, 81, 83, 84, 87, 88, 89, 90, 96, 99]),),\n",
       " array([1, 1, 1, 2, 1, 1, 1, 1, 1, 2, 1, 1, 1, 1, 1, 2, 1, 2, 1, 1, 1, 1,\n",
       "        1, 1, 1, 1, 2, 2, 1, 1, 1, 1, 1]))"
      ]
     },
     "execution_count": 43,
     "metadata": {},
     "output_type": "execute_result"
    }
   ],
   "source": [
    "indeces, values"
   ]
  },
  {
   "cell_type": "code",
   "execution_count": 48,
   "id": "c1c31166-b742-473d-8aab-5b47501d9d07",
   "metadata": {},
   "outputs": [],
   "source": [
    "## So now we have to take sparse array and shift it, and truncate to not overflow, \n",
    "## say we take correlation length tau:"
   ]
  },
  {
   "cell_type": "code",
   "execution_count": null,
   "id": "57d26386-da10-4bf9-8404-f1b19f764f30",
   "metadata": {},
   "outputs": [],
   "source": [
    "## sparse_array_tau = sparse_array[t:]\n",
    "## sparse_array = sparse_array[:-t]\n",
    "\n",
    "# length is reduced by t, and we get indices of new arrays:\n",
    "# 1. index_array_tau = (index_array-t)[index_array >t]\n",
    "# 2. indeces_ = index_array[index_array < shape - t]"
   ]
  },
  {
   "cell_type": "code",
   "execution_count": 56,
   "id": "28cc5f58-2cf6-4141-a83c-19cb2862c5b2",
   "metadata": {},
   "outputs": [],
   "source": [
    "indeces_shifted = lambda k: (indeces[0]-k)[indeces[0]>=k]\n",
    "indeces_0 = lambda k: indeces[0][indeces[0] < max(indeces[0])-k]\n",
    "a = indeces_0(9)\n",
    "b = indeces_shifted(9)\n",
    "inds = np.where(a ==b)\n",
    "np.mean(a[inds]*b[inds])"
   ]
  },
  {
   "cell_type": "code",
   "execution_count": 67,
   "id": "abe20193-d89e-4edc-b847-5303f217863d",
   "metadata": {},
   "outputs": [
    {
     "data": {
      "text/plain": [
       "(array([ 1,  7,  8, 10, 13, 16, 21, 26, 32, 33, 36, 38, 40, 42, 43, 46, 49,\n",
       "        55, 58, 59, 64, 72, 76, 79, 81, 83, 84, 87, 88, 89, 90, 96, 99]),)"
      ]
     },
     "execution_count": 67,
     "metadata": {},
     "output_type": "execute_result"
    }
   ],
   "source": [
    "indeces"
   ]
  },
  {
   "cell_type": "code",
   "execution_count": 60,
   "id": "bffce681-d113-43e8-8312-46e4e2059a9f",
   "metadata": {},
   "outputs": [
    {
     "data": {
      "text/plain": [
       "array([ 0,  3,  6, 11, 16, 22, 23, 26, 28, 30, 32, 33, 36, 39, 45, 48, 49,\n",
       "       54, 62, 66, 69, 71, 73, 74, 77, 78, 79, 80, 86, 89])"
      ]
     },
     "execution_count": 60,
     "metadata": {},
     "output_type": "execute_result"
    }
   ],
   "source": [
    "indeces_shifted(10)"
   ]
  },
  {
   "cell_type": "code",
   "execution_count": 110,
   "id": "a7c4afdc-d206-4026-8324-5a7b17d3b55c",
   "metadata": {},
   "outputs": [],
   "source": [
    "from matplotlib import pyplot as plt"
   ]
  },
  {
   "cell_type": "code",
   "execution_count": 113,
   "id": "1759d134-9cc9-4ba7-af96-d5f078cbf607",
   "metadata": {},
   "outputs": [],
   "source": [
    "arr = np.random.binomial(p = 0.2, n = 2, size = 20)\n",
    "i = np.where(arr!=0)[0]\n",
    "v = arr[i]"
   ]
  },
  {
   "cell_type": "code",
   "execution_count": 120,
   "id": "83944040-1360-4fc5-b4e3-6c7368edbe8c",
   "metadata": {},
   "outputs": [
    {
     "data": {
      "image/png": "[encoded data removed]",
      "text/plain": [
       "<Figure size 432x288 with 1 Axes>"
      ]
     },
     "metadata": {
      "needs_background": "light"
     },
     "output_type": "display_data"
    }
   ],
   "source": [
    "kk = range(1,10)\n",
    "for k in kk:\n",
    "    plt.plot(k, np.mean(arr[k:]*arr[:-k]),'ro')"
   ]
  },
  {
   "cell_type": "code",
   "execution_count": 129,
   "id": "ad0115e4-f039-4455-9b33-ff7d1b2bbea0",
   "metadata": {},
   "outputs": [
    {
     "name": "stdout",
     "output_type": "stream",
     "text": [
      "1 ik is correct [[ True  True  True  True  True  True  True  True  True  True]]\n",
      "1 i0 is correct [[ True  True  True  True  True  True  True  True  True  True]]\n",
      "2 ik is correct [[ True  True  True  True  True  True  True  True  True]]\n",
      "2 i0 is correct [[ True  True  True  True  True  True  True  True  True]]\n",
      "3 ik is correct [[ True  True  True  True  True  True  True  True]]\n",
      "3 i0 is correct [[ True  True  True  True  True  True  True  True]]\n",
      "4 ik is correct [[ True  True  True  True  True  True  True  True]]\n",
      "4 i0 is correct [[ True  True  True  True  True  True  True]]\n",
      "5 ik is correct [[ True  True  True  True  True  True  True]]\n",
      "5 i0 is correct [[ True  True  True  True  True  True]]\n",
      "6 ik is correct [[ True  True  True  True  True  True  True]]\n",
      "6 i0 is correct [[ True  True  True  True  True]]\n",
      "7 ik is correct [[ True  True  True  True  True  True  True]]\n",
      "7 i0 is correct [[ True  True  True  True  True]]\n",
      "8 ik is correct [[ True  True  True  True  True  True  True]]\n",
      "8 i0 is correct [[ True  True  True  True]]\n",
      "9 ik is correct [[ True  True  True  True  True  True  True]]\n",
      "9 i0 is correct [[ True  True  True  True]]\n"
     ]
    },
    {
     "data": {
      "image/png": "[encoded data removed]",
      "text/plain": [
       "<Figure size 432x288 with 1 Axes>"
      ]
     },
     "metadata": {
      "needs_background": "light"
     },
     "output_type": "display_data"
    }
   ],
   "source": [
    "kk = range(1,10)\n",
    "for k in kk:\n",
    "    plt.plot(k, np.mean(arr[k:]*arr[:-k]),'ko')\n",
    "\n",
    "\n",
    "\n",
    "n = 20#i[-1]\n",
    "for k in kk:\n",
    "    i0 = i[i < n-k]   \n",
    "    ik = (i-k)[i >= k]   \n",
    "    print(k,'ik is correct',(ik == np.where(arr[k:]!=0)))    \n",
    "    print(k,'i0 is correct',(i0 == np.where(arr[:-k]!=0)))    \n",
    "    \n",
    "    v0 = v[i < n-k]\n",
    "    vk = v[i >= k]\n",
    "    #nk = min(i0.shape[0], ik.shape[0])\n",
    "    ## Here is maybe wrong since we can judge not by shape but by the maximum index, so that we maybe throw away usefull points. \n",
    "    \n",
    "    \n",
    "    \n",
    "    inds =  np.where(i0[:nk] == ik[:nk])\n",
    "    ck = np.sum(v0[inds]*vk[inds])/(n-k)\n",
    "    plt.plot(k,ck,'ro')"
   ]
  },
  {
   "cell_type": "code",
   "execution_count": null,
   "id": "14ea0dce-284d-4e6c-9fea-452d9e5da6d1",
   "metadata": {},
   "outputs": [],
   "source": []
  }
 ],
 "metadata": {
  "kernelspec": {
   "display_name": "Python 3",
   "language": "python",
   "name": "python3"
  },
  "language_info": {
   "codemirror_mode": {
    "name": "ipython",
    "version": 3
   },
   "file_extension": ".py",
   "mimetype": "text/x-python",
   "name": "python",
   "nbconvert_exporter": "python",
   "pygments_lexer": "ipython3",
   "version": "3.7.10"
  }
 },
 "nbformat": 4,
 "nbformat_minor": 5
}
