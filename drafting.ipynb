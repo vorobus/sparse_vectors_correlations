{
 "cells": [
  {
   "cell_type": "code",
   "execution_count": 1,
   "id": "559682d3-4ec1-43b0-bcad-d95be676657f",
   "metadata": {},
   "outputs": [],
   "source": [
    "import numpy as np"
   ]
  },
  {
   "cell_type": "code",
   "execution_count": 37,
   "id": "bcc39de2-60b4-4522-bddb-ad7488cfb7e0",
   "metadata": {},
   "outputs": [
    {
     "data": {
      "text/plain": [
       "(array([2, 0, 1, 1, 0, 1, 2, 0, 1, 1]), array([1, 1, 1, 0, 1, 0, 0, 1, 0]))"
      ]
     },
     "execution_count": 37,
     "metadata": {},
     "output_type": "execute_result"
    }
   ],
   "source": [
    "a = np.random.binomial(p = 0.2, n = 2, size = 10)\n",
    "b = np.random.binomial( p = 0.5, n = 1, size = 9)#size = (2,1))\n",
    "a,b"
   ]
  },
  {
   "cell_type": "code",
   "execution_count": 38,
   "id": "f96f7027-cd6f-4a43-b154-1f134e3e7b27",
   "metadata": {},
   "outputs": [],
   "source": [
    "sparse_array = np.random.binomial(p = 0.2, n = 2,size = 100)"
   ]
  },
  {
   "cell_type": "code",
   "execution_count": 39,
   "id": "b073bc46-c03c-4a38-82ed-c7c3d93e829b",
   "metadata": {},
   "outputs": [
    {
     "data": {
      "text/plain": [
       "array([0, 1, 0, 0, 0, 0, 0, 1, 1, 0, 2, 0, 0, 1, 0, 0, 1, 0, 0, 0, 0, 1,\n",
       "       0, 0, 0, 0, 1, 0, 0, 0, 0, 0, 1, 2, 0, 0, 1, 0, 1, 0, 1, 0, 1, 1,\n",
       "       0, 0, 2, 0, 0, 1, 0, 0, 0, 0, 0, 2, 0, 0, 1, 1, 0, 0, 0, 0, 1, 0,\n",
       "       0, 0, 0, 0, 0, 0, 1, 0, 0, 0, 1, 0, 0, 1, 0, 1, 0, 1, 2, 0, 0, 2,\n",
       "       1, 1, 1, 0, 0, 0, 0, 0, 1, 0, 0, 1])"
      ]
     },
     "execution_count": 39,
     "metadata": {},
     "output_type": "execute_result"
    }
   ],
   "source": [
    "sparse_array"
   ]
  },
  {
   "cell_type": "code",
   "execution_count": 41,
   "id": "22e83782-eb3a-43bc-ab76-7f59d0139354",
   "metadata": {},
   "outputs": [],
   "source": [
    "indeces = np.where(sparse_array != 0)"
   ]
  },
  {
   "cell_type": "code",
   "execution_count": 42,
   "id": "af3aeb2b-af07-4a40-8f11-aba1cdbbee41",
   "metadata": {},
   "outputs": [],
   "source": [
    "values = sparse_array[indeces]"
   ]
  },
  {
   "cell_type": "code",
   "execution_count": 43,
   "id": "f101b6de-3dd4-4b08-8c29-df503c847613",
   "metadata": {},
   "outputs": [
    {
     "data": {
      "text/plain": [
       "((array([ 1,  7,  8, 10, 13, 16, 21, 26, 32, 33, 36, 38, 40, 42, 43, 46, 49,\n",
       "         55, 58, 59, 64, 72, 76, 79, 81, 83, 84, 87, 88, 89, 90, 96, 99]),),\n",
       " array([1, 1, 1, 2, 1, 1, 1, 1, 1, 2, 1, 1, 1, 1, 1, 2, 1, 2, 1, 1, 1, 1,\n",
       "        1, 1, 1, 1, 2, 2, 1, 1, 1, 1, 1]))"
      ]
     },
     "execution_count": 43,
     "metadata": {},
     "output_type": "execute_result"
    }
   ],
   "source": [
    "indeces, values"
   ]
  },
  {
   "cell_type": "code",
   "execution_count": 48,
   "id": "c1c31166-b742-473d-8aab-5b47501d9d07",
   "metadata": {},
   "outputs": [],
   "source": [
    "## So now we have to take sparse array and shift it, and truncate to not overflow, \n",
    "## say we take correlation length tau:"
   ]
  },
  {
   "cell_type": "code",
   "execution_count": null,
   "id": "57d26386-da10-4bf9-8404-f1b19f764f30",
   "metadata": {},
   "outputs": [],
   "source": [
    "## sparse_array_tau = sparse_array[t:]\n",
    "## sparse_array = sparse_array[:-t]\n",
    "\n",
    "# length is reduced by t, and we get indices of new arrays:\n",
    "# 1. index_array_tau = (index_array-t)[index_array >t]\n",
    "# 2. indeces_ = index_array[index_array < shape - t]"
   ]
  },
  {
   "cell_type": "code",
   "execution_count": 56,
   "id": "28cc5f58-2cf6-4141-a83c-19cb2862c5b2",
   "metadata": {},
   "outputs": [],
   "source": [
    "indeces_shifted = lambda k: (indeces[0]-k)[indeces[0]>=k]\n",
    "indeces_0 = lambda k: indeces[0][indeces[0] < max(indeces[0])-k]\n",
    "a = indeces_0(9)\n",
    "b = indeces_shifted(9)\n",
    "inds = np.where(a ==b)\n",
    "np.mean(a[inds]*b[inds])"
   ]
  },
  {
   "cell_type": "code",
   "execution_count": 67,
   "id": "abe20193-d89e-4edc-b847-5303f217863d",
   "metadata": {},
   "outputs": [
    {
     "data": {
      "text/plain": [
       "(array([ 1,  7,  8, 10, 13, 16, 21, 26, 32, 33, 36, 38, 40, 42, 43, 46, 49,\n",
       "        55, 58, 59, 64, 72, 76, 79, 81, 83, 84, 87, 88, 89, 90, 96, 99]),)"
      ]
     },
     "execution_count": 67,
     "metadata": {},
     "output_type": "execute_result"
    }
   ],
   "source": [
    "indeces"
   ]
  },
  {
   "cell_type": "code",
   "execution_count": 60,
   "id": "bffce681-d113-43e8-8312-46e4e2059a9f",
   "metadata": {},
   "outputs": [
    {
     "data": {
      "text/plain": [
       "array([ 0,  3,  6, 11, 16, 22, 23, 26, 28, 30, 32, 33, 36, 39, 45, 48, 49,\n",
       "       54, 62, 66, 69, 71, 73, 74, 77, 78, 79, 80, 86, 89])"
      ]
     },
     "execution_count": 60,
     "metadata": {},
     "output_type": "execute_result"
    }
   ],
   "source": [
    "indeces_shifted(10)"
   ]
  },
  {
   "cell_type": "code",
   "execution_count": 110,
   "id": "a7c4afdc-d206-4026-8324-5a7b17d3b55c",
   "metadata": {},
   "outputs": [],
   "source": [
    "from matplotlib import pyplot as plt"
   ]
  },
  {
   "cell_type": "code",
   "execution_count": 113,
   "id": "1759d134-9cc9-4ba7-af96-d5f078cbf607",
   "metadata": {},
   "outputs": [],
   "source": [
    "arr = np.random.binomial(p = 0.2, n = 2, size = 20)\n",
    "i = np.where(arr!=0)[0]\n",
    "v = arr[i]"
   ]
  },
  {
   "cell_type": "code",
   "execution_count": 120,
   "id": "83944040-1360-4fc5-b4e3-6c7368edbe8c",
   "metadata": {},
   "outputs": [
    {
     "data": {
      "image/png": "[encoded data removed]",
      "text/plain": [
       "<Figure size 432x288 with 1 Axes>"
      ]
     },
     "metadata": {
      "needs_background": "light"
     },
     "output_type": "display_data"
    }
   ],
   "source": [
    "kk = range(1,10)\n",
    "for k in kk:\n",
    "    plt.plot(k, np.mean(arr[k:]*arr[:-k]),'ro')"
   ]
  },
  {
   "cell_type": "code",
   "execution_count": 199,
   "id": "ad0115e4-f039-4455-9b33-ff7d1b2bbea0",
   "metadata": {},
   "outputs": [
    {
     "name": "stdout",
     "output_type": "stream",
     "text": [
      "0\n",
      "i [ 1  2  4  9 12 14 15 16 17 18] [ 0  1  3  8 11 13 14 15 16 17]\n",
      "v [1 1 2 1 1 1 1 1 1 1] [1 1 2 1 1 1 1 1 1 1]\n",
      "common [ 1 14 15 16 17]\n",
      "0\n",
      "i [ 1  2  4  9 12 14 15 16 17] [ 0  2  7 10 12 13 14 15 16]\n",
      "v [1 1 2 1 1 1 1 1 1] [1 2 1 1 1 1 1 1 1]\n",
      "common [ 2 12 14 15 16]\n",
      "0\n",
      "i [ 1  2  4  9 12 14 15 16] [ 1  6  9 11 12 13 14 15]\n",
      "v [1 1 2 1 1 1 1 1] [2 1 1 1 1 1 1 1]\n",
      "common [ 1  9 12 14 15]\n",
      "-1\n",
      "i [ 1  2  4  9 12 14 15 16] [ 0  5  8 10 11 12 13 14]\n",
      "v [1. 1. 2. 1. 1. 1. 1. 0.] [2 1 1 1 1 1 1 1]\n",
      "common [12 14]\n",
      "-1\n",
      "i [ 1  2  4  9 12 14 15] [ 4  7  9 10 11 12 13]\n",
      "v [1. 1. 2. 1. 1. 1. 0.] [1 1 1 1 1 1 1]\n",
      "common [ 4  9 12]\n",
      "-2\n",
      "i [ 1  2  4  9 12 13 14] [ 3  6  8  9 10 11 12]\n",
      "v [1. 1. 2. 1. 1. 0. 0.] [1 1 1 1 1 1 1]\n",
      "common [ 9 12]\n",
      "-2\n",
      "i [ 1  2  4  9 12 13 14] [ 2  5  7  8  9 10 11]\n",
      "v [1. 1. 2. 1. 1. 0. 0.] [1 1 1 1 1 1 1]\n",
      "common [2 9]\n",
      "-3\n",
      "i [ 1  2  4  9 10 11 12] [ 1  4  6  7  8  9 10]\n",
      "v [1. 1. 2. 1. 0. 0. 0.] [1 1 1 1 1 1 1]\n",
      "common [ 1  4  9 10]\n",
      "-3\n",
      "i [ 1  2  4  9 10 11 12] [0 3 5 6 7 8 9]\n",
      "v [1. 1. 2. 1. 0. 0. 0.] [1 1 1 1 1 1 1]\n",
      "common [9]\n"
     ]
    },
    {
     "data": {
      "image/png": "[encoded data removed]",
      "text/plain": [
       "<Figure size 432x288 with 1 Axes>"
      ]
     },
     "metadata": {
      "needs_background": "light"
     },
     "output_type": "display_data"
    }
   ],
   "source": [
    "kk = range(1,10)\n",
    "for k in kk:\n",
    "    plt.plot(k, np.mean(arr[k:]*arr[:-k]),'ks')\n",
    "\n",
    "\n",
    "\n",
    "n = 20#i[-1]\n",
    "for k in kk:\n",
    "    i0 = i[i < n-k]   \n",
    "    ik = (i-k)[i >= k]    \n",
    "    v0 = v[i < n-k]\n",
    "    vk = v[i >= k]\n",
    "    n0 = i0.shape[0]\n",
    "    nk = ik.shape[0]\n",
    "    shape_diff = n0 - nk\n",
    "    #print(shape_diff)\n",
    "    if shape_diff > 0:\n",
    "        ik = np.append(ik, np.arange(ik[-1]+1, ik[-1]+1+shape_diff,1))\n",
    "        vk = np.append(vk, np.zeros((shape_diff,)))\n",
    "    elif shape_diff < 0:\n",
    "        i0 = np.append(i0, np.arange(i0[-1]+1, i0[-1]+1-shape_diff,1))\n",
    "        v0 = np.append(v0, np.zeros((-shape_diff,)))\n",
    "    #print('i',i0, ik)\n",
    "    #print('v',v0, vk)\n",
    "    common_elements = np.intersect1d(i0, ik)\n",
    "    print('common', common_elements)\n",
    "    #a= np.arange(-1,6)\n",
    "    #b=np.arange(-4,3);b\n",
    "    kk1, kk2 = np.where( i0 == ik.reshape(-1,1))\n",
    "    #(a[kk2] == b[kk1]).all()\n",
    "\n",
    "\n",
    "    #inds1, = np.where(np.all(i0 == common_elements))\n",
    "    #inds2, = np.where(np.all(ik == common_elements))\n",
    "    #print(inds1)\n",
    "    ck = np.sum(v0[kk2]*vk[kk1])/(n-k)\n",
    "    plt.plot(k,ck,'r.')"
   ]
  },
  {
   "cell_type": "code",
   "execution_count": 196,
   "id": "dbe4762f-9a25-4c52-90e3-93720c9f92d2",
   "metadata": {},
   "outputs": [
    {
     "data": {
      "text/plain": [
       "True"
      ]
     },
     "execution_count": 196,
     "metadata": {},
     "output_type": "execute_result"
    }
   ],
   "source": [
    "a= np.arange(-1,6)\n",
    "b=np.arange(-4,3);b\n",
    "kk1, kk2 = np.where( a == b.reshape(-1,1))\n",
    "(a[kk2] == b[kk1]).all()"
   ]
  }
 ],
 "metadata": {
  "kernelspec": {
   "display_name": "Python 3",
   "language": "python",
   "name": "python3"
  },
  "language_info": {
   "codemirror_mode": {
    "name": "ipython",
    "version": 3
   },
   "file_extension": ".py",
   "mimetype": "text/x-python",
   "name": "python",
   "nbconvert_exporter": "python",
   "pygments_lexer": "ipython3",
   "version": "3.7.10"
  }
 },
 "nbformat": 4,
 "nbformat_minor": 5
}
